{
 "cells": [
  {
   "cell_type": "markdown",
   "metadata": {},
   "source": [
    "### Homework 2: More Exploratory Data Analysis\n",
    "## Gene Expression Data and Election Polls \n",
    "\n",
    "Due: Thursday, September 29, 2016 11:59 PM\n",
    "\n",
    "\n",
    "#### Submission Instructions\n",
    "To submit your homework, create a folder named **lastname_firstinitial_hw#** and place your IPython notebooks, data files, and any other files in this folder. Your IPython Notebooks should be completely executed with the results visible in the notebook. We should not have to run any code. Make sure to share the private repo with my github account (mdog) and submit the repo path through blackboard.\n",
    "\n",
    "---"
   ]
  },
  {
   "cell_type": "markdown",
   "metadata": {},
   "source": [
    "## Introduction\n",
    "\n",
    "John Tukey wrote in [Exploratory Data Analysis, 1977](http://www.amazon.com/Exploratory-Data-Analysis-Wilder-Tukey/dp/0201076160/ref=pd_bbs_sr_2/103-4466654-5303007?ie=UTF8&s=books&qid=1189739816&sr=8-2): \"The greatest value of a picture is when it forces us to notice what we never expected to see.\" In this assignment we will continue using our exploratory data analysis tools, but apply it to new sets of data: [gene expression](http://en.wikipedia.org/wiki/Gene_expression) and polls from the [2012 Presidental Election](http://en.wikipedia.org/wiki/United_States_presidential_election,_2012) and from the [2014 Senate Midterm Elections](http://en.wikipedia.org/wiki/United_States_Senate_elections,_2014).   \n",
    "\n",
    "**First**: You will use exploratory data analysis and apply the [singular value decomposition](http://en.wikipedia.org/wiki/Singular_value_decomposition) (SVD) to a gene expression data matrix to determine if the the date that the gene expression samples are processed has large effect on the variability seen in the data.  \n",
    "\n",
    "**Second**: You will use the polls from the 2012 Presidential Elections to determine (1) Is there a pollster bias in presidential election polls? and (2) Is the average of polls better than just one poll?\n",
    "\n",
    "**Finally**: You will use the [HuffPost Pollster API](http://elections.huffingtonpost.com/pollster/api) to extract the polls for the current 2014 Senate Midterm Elections and provide a preliminary prediction of the result of each state.\n",
    "\n",
    "#### Data\n",
    "\n",
    "We will use the following data sets: \n",
    "\n",
    "1. A gene expression data set called `exprs_GSE5859.csv` and sample annotation table called `sampleinfo_GSE5859.csv` which are both available on Github in the 2014_data repository: [expression data set](https://github.com/cs109/2014_data/blob/master/exprs_GSE5859.csv) and [sample annotation table](https://github.com/cs109/2014_data/blob/master/sampleinfo_GSE5859.csv).  \n",
    "\n",
    "2. Polls from the [2012 Presidential Election: Barack Obama vs Mitt Romney](http://elections.huffingtonpost.com/pollster/2012-general-election-romney-vs-obama). The polls we will use are from the [Huffington Post Pollster](http://elections.huffingtonpost.com/pollster).  \n",
    "\n",
    "3. Polls from the [2014 Senate Midterm Elections](http://elections.huffingtonpost.com/pollster) from the [HuffPost Pollster API](http://elections.huffingtonpost.com/pollster/api). \n",
    "\n",
    "---"
   ]
  },
  {
   "cell_type": "markdown",
   "metadata": {},
   "source": [
    "## Load Python modules"
   ]
  },
  {
   "cell_type": "code",
   "execution_count": 2,
   "metadata": {
    "collapsed": false
   },
   "outputs": [],
   "source": [
    "# special IPython command to prepare the notebook for matplotlib\n",
    "%matplotlib inline \n",
    "\n",
    "import requests \n",
    "from io import StringIO\n",
    "import numpy as np\n",
    "import pandas as pd # pandas\n",
    "import matplotlib.pyplot as plt # module for plotting \n",
    "import datetime as dt # module for manipulating dates and times\n",
    "import numpy.linalg as lin # module for performing linear algebra operations"
   ]
  },
  {
   "cell_type": "markdown",
   "metadata": {},
   "source": [
    "## Problem 1\n",
    "\n",
    "In this problem we will be using a [gene expression](http://en.wikipedia.org/wiki/Gene_expression) data set obtained from a [microarray](http://en.wikipedia.org/wiki/DNA_microarray) experiement [Read more about the specific experiment here](http://www.ncbi.nlm.nih.gov/geo/query/acc.cgi?acc=GSE5859).  There are two data sets we will use:  \n",
    "\n",
    "1. The gene expression intensities where the rows represent the features on the microarray (e.g. genes) and the columsns represent the different microarray samples.  \n",
    "\n",
    "2. A table that contains the information about each of the samples (columns in the gene expression data set) such as the sex, the age, the treatment status, the date the samples were processed.  Each row represents one sample. "
   ]
  },
  {
   "cell_type": "markdown",
   "metadata": {},
   "source": [
    "#### Problem 1(a) \n",
    "Read in the two files from Github: [exprs_GSE5859.csv](https://github.com/cs109/2014_data/blob/master/exprs_GSE5859.csv) and [sampleinfo_GSE5859.csv](https://github.com/cs109/2014_data/blob/master/sampleinfo_GSE5859.csv) as pandas DataFrames called `exprs` and `sampleinfo`. Use the gene names as the index of the `exprs` DataFrame."
   ]
  },
  {
   "cell_type": "code",
   "execution_count": 3,
   "metadata": {
    "collapsed": false
   },
   "outputs": [],
   "source": [
    "#your code here\n",
    "exprs = pd.read_csv('https://raw.githubusercontent.com/cs109/2014_data/master/exprs_GSE5859.csv')\n",
    "sampleinfo = pd.read_csv('https://raw.githubusercontent.com/cs109/2014_data/master/sampleinfo_GSE5859.csv')\n",
    "\n"
   ]
  },
  {
   "cell_type": "code",
   "execution_count": 4,
   "metadata": {
    "collapsed": false
   },
   "outputs": [
    {
     "data": {
      "text/html": [
       "<div>\n",
       "<table border=\"1\" class=\"dataframe\">\n",
       "  <thead>\n",
       "    <tr style=\"text-align: right;\">\n",
       "      <th></th>\n",
       "      <th>ethnicity</th>\n",
       "      <th>date</th>\n",
       "      <th>filename</th>\n",
       "      <th>sex</th>\n",
       "    </tr>\n",
       "  </thead>\n",
       "  <tbody>\n",
       "    <tr>\n",
       "      <th>0</th>\n",
       "      <td>CEU</td>\n",
       "      <td>2003-02-04</td>\n",
       "      <td>GSM25349.CEL.gz</td>\n",
       "      <td>M</td>\n",
       "    </tr>\n",
       "    <tr>\n",
       "      <th>1</th>\n",
       "      <td>CEU</td>\n",
       "      <td>2003-02-04</td>\n",
       "      <td>GSM25350.CEL.gz</td>\n",
       "      <td>M</td>\n",
       "    </tr>\n",
       "    <tr>\n",
       "      <th>2</th>\n",
       "      <td>CEU</td>\n",
       "      <td>2002-12-17</td>\n",
       "      <td>GSM25356.CEL.gz</td>\n",
       "      <td>M</td>\n",
       "    </tr>\n",
       "    <tr>\n",
       "      <th>3</th>\n",
       "      <td>CEU</td>\n",
       "      <td>2003-01-30</td>\n",
       "      <td>GSM25357.CEL.gz</td>\n",
       "      <td>M</td>\n",
       "    </tr>\n",
       "    <tr>\n",
       "      <th>4</th>\n",
       "      <td>CEU</td>\n",
       "      <td>2003-01-03</td>\n",
       "      <td>GSM25358.CEL.gz</td>\n",
       "      <td>M</td>\n",
       "    </tr>\n",
       "  </tbody>\n",
       "</table>\n",
       "</div>"
      ],
      "text/plain": [
       "  ethnicity        date         filename sex\n",
       "0       CEU  2003-02-04  GSM25349.CEL.gz   M\n",
       "1       CEU  2003-02-04  GSM25350.CEL.gz   M\n",
       "2       CEU  2002-12-17  GSM25356.CEL.gz   M\n",
       "3       CEU  2003-01-30  GSM25357.CEL.gz   M\n",
       "4       CEU  2003-01-03  GSM25358.CEL.gz   M"
      ]
     },
     "execution_count": 4,
     "metadata": {},
     "output_type": "execute_result"
    }
   ],
   "source": [
    "sampleinfo.head()"
   ]
  },
  {
   "cell_type": "code",
   "execution_count": 5,
   "metadata": {
    "collapsed": false,
    "scrolled": true
   },
   "outputs": [
    {
     "data": {
      "text/html": [
       "<div>\n",
       "<table border=\"1\" class=\"dataframe\">\n",
       "  <thead>\n",
       "    <tr style=\"text-align: right;\">\n",
       "      <th></th>\n",
       "      <th>Unnamed: 0</th>\n",
       "      <th>GSM25581.CEL.gz</th>\n",
       "      <th>GSM25681.CEL.gz</th>\n",
       "      <th>GSM136524.CEL.gz</th>\n",
       "      <th>GSM136707.CEL.gz</th>\n",
       "      <th>GSM25553.CEL.gz</th>\n",
       "      <th>GSM136676.CEL.gz</th>\n",
       "      <th>GSM136711.CEL.gz</th>\n",
       "      <th>GSM136542.CEL.gz</th>\n",
       "      <th>GSM136535.CEL.gz</th>\n",
       "      <th>...</th>\n",
       "      <th>GSM48650.CEL.gz</th>\n",
       "      <th>GSM25687.CEL.gz</th>\n",
       "      <th>GSM25685.CEL.gz</th>\n",
       "      <th>GSM136549.CEL.gz</th>\n",
       "      <th>GSM25427.CEL.gz</th>\n",
       "      <th>GSM25525.CEL.gz</th>\n",
       "      <th>GSM25349.CEL.gz</th>\n",
       "      <th>GSM136727.CEL.gz</th>\n",
       "      <th>GSM25626.CEL.gz</th>\n",
       "      <th>GSM136725.CEL.gz</th>\n",
       "    </tr>\n",
       "  </thead>\n",
       "  <tbody>\n",
       "    <tr>\n",
       "      <th>0</th>\n",
       "      <td>1007_s_at</td>\n",
       "      <td>6.333951</td>\n",
       "      <td>5.736190</td>\n",
       "      <td>6.156754</td>\n",
       "      <td>6.513010</td>\n",
       "      <td>6.061013</td>\n",
       "      <td>6.506493</td>\n",
       "      <td>6.863426</td>\n",
       "      <td>6.369645</td>\n",
       "      <td>6.646321</td>\n",
       "      <td>...</td>\n",
       "      <td>7.082636</td>\n",
       "      <td>6.315866</td>\n",
       "      <td>7.010165</td>\n",
       "      <td>6.460107</td>\n",
       "      <td>6.122355</td>\n",
       "      <td>6.330314</td>\n",
       "      <td>6.627014</td>\n",
       "      <td>6.133068</td>\n",
       "      <td>6.419444</td>\n",
       "      <td>6.488579</td>\n",
       "    </tr>\n",
       "    <tr>\n",
       "      <th>1</th>\n",
       "      <td>1053_at</td>\n",
       "      <td>7.255622</td>\n",
       "      <td>7.399993</td>\n",
       "      <td>7.491967</td>\n",
       "      <td>7.006123</td>\n",
       "      <td>7.250995</td>\n",
       "      <td>7.082581</td>\n",
       "      <td>6.842236</td>\n",
       "      <td>7.048487</td>\n",
       "      <td>7.042361</td>\n",
       "      <td>...</td>\n",
       "      <td>6.599718</td>\n",
       "      <td>7.412731</td>\n",
       "      <td>7.274429</td>\n",
       "      <td>6.928642</td>\n",
       "      <td>7.168782</td>\n",
       "      <td>7.235648</td>\n",
       "      <td>6.939184</td>\n",
       "      <td>7.280781</td>\n",
       "      <td>6.351776</td>\n",
       "      <td>7.517410</td>\n",
       "    </tr>\n",
       "    <tr>\n",
       "      <th>2</th>\n",
       "      <td>117_at</td>\n",
       "      <td>5.760106</td>\n",
       "      <td>4.825169</td>\n",
       "      <td>5.039387</td>\n",
       "      <td>5.414160</td>\n",
       "      <td>5.205697</td>\n",
       "      <td>5.300078</td>\n",
       "      <td>5.099337</td>\n",
       "      <td>5.156459</td>\n",
       "      <td>5.736109</td>\n",
       "      <td>...</td>\n",
       "      <td>6.231457</td>\n",
       "      <td>5.240717</td>\n",
       "      <td>5.275062</td>\n",
       "      <td>5.759827</td>\n",
       "      <td>5.409720</td>\n",
       "      <td>5.491938</td>\n",
       "      <td>5.113570</td>\n",
       "      <td>5.401876</td>\n",
       "      <td>5.537605</td>\n",
       "      <td>5.247190</td>\n",
       "    </tr>\n",
       "    <tr>\n",
       "      <th>3</th>\n",
       "      <td>121_at</td>\n",
       "      <td>6.935451</td>\n",
       "      <td>7.025210</td>\n",
       "      <td>7.543667</td>\n",
       "      <td>7.959781</td>\n",
       "      <td>7.223323</td>\n",
       "      <td>8.006816</td>\n",
       "      <td>8.102504</td>\n",
       "      <td>7.434617</td>\n",
       "      <td>7.532321</td>\n",
       "      <td>...</td>\n",
       "      <td>8.215096</td>\n",
       "      <td>7.677593</td>\n",
       "      <td>7.923624</td>\n",
       "      <td>7.219401</td>\n",
       "      <td>7.432338</td>\n",
       "      <td>6.785174</td>\n",
       "      <td>7.833862</td>\n",
       "      <td>7.607461</td>\n",
       "      <td>7.302935</td>\n",
       "      <td>7.331864</td>\n",
       "    </tr>\n",
       "    <tr>\n",
       "      <th>4</th>\n",
       "      <td>1255_g_at</td>\n",
       "      <td>3.597872</td>\n",
       "      <td>3.108801</td>\n",
       "      <td>3.128269</td>\n",
       "      <td>3.364947</td>\n",
       "      <td>3.125909</td>\n",
       "      <td>3.186834</td>\n",
       "      <td>3.311022</td>\n",
       "      <td>3.092042</td>\n",
       "      <td>3.167737</td>\n",
       "      <td>...</td>\n",
       "      <td>3.331424</td>\n",
       "      <td>3.043856</td>\n",
       "      <td>3.151900</td>\n",
       "      <td>3.132253</td>\n",
       "      <td>3.250600</td>\n",
       "      <td>2.984125</td>\n",
       "      <td>3.152269</td>\n",
       "      <td>3.225123</td>\n",
       "      <td>3.222731</td>\n",
       "      <td>3.175846</td>\n",
       "    </tr>\n",
       "  </tbody>\n",
       "</table>\n",
       "<p>5 rows × 209 columns</p>\n",
       "</div>"
      ],
      "text/plain": [
       "  Unnamed: 0  GSM25581.CEL.gz  GSM25681.CEL.gz  GSM136524.CEL.gz  \\\n",
       "0  1007_s_at         6.333951         5.736190          6.156754   \n",
       "1    1053_at         7.255622         7.399993          7.491967   \n",
       "2     117_at         5.760106         4.825169          5.039387   \n",
       "3     121_at         6.935451         7.025210          7.543667   \n",
       "4  1255_g_at         3.597872         3.108801          3.128269   \n",
       "\n",
       "   GSM136707.CEL.gz  GSM25553.CEL.gz  GSM136676.CEL.gz  GSM136711.CEL.gz  \\\n",
       "0          6.513010         6.061013          6.506493          6.863426   \n",
       "1          7.006123         7.250995          7.082581          6.842236   \n",
       "2          5.414160         5.205697          5.300078          5.099337   \n",
       "3          7.959781         7.223323          8.006816          8.102504   \n",
       "4          3.364947         3.125909          3.186834          3.311022   \n",
       "\n",
       "   GSM136542.CEL.gz  GSM136535.CEL.gz        ...         GSM48650.CEL.gz  \\\n",
       "0          6.369645          6.646321        ...                7.082636   \n",
       "1          7.048487          7.042361        ...                6.599718   \n",
       "2          5.156459          5.736109        ...                6.231457   \n",
       "3          7.434617          7.532321        ...                8.215096   \n",
       "4          3.092042          3.167737        ...                3.331424   \n",
       "\n",
       "   GSM25687.CEL.gz  GSM25685.CEL.gz  GSM136549.CEL.gz  GSM25427.CEL.gz  \\\n",
       "0         6.315866         7.010165          6.460107         6.122355   \n",
       "1         7.412731         7.274429          6.928642         7.168782   \n",
       "2         5.240717         5.275062          5.759827         5.409720   \n",
       "3         7.677593         7.923624          7.219401         7.432338   \n",
       "4         3.043856         3.151900          3.132253         3.250600   \n",
       "\n",
       "   GSM25525.CEL.gz  GSM25349.CEL.gz  GSM136727.CEL.gz  GSM25626.CEL.gz  \\\n",
       "0         6.330314         6.627014          6.133068         6.419444   \n",
       "1         7.235648         6.939184          7.280781         6.351776   \n",
       "2         5.491938         5.113570          5.401876         5.537605   \n",
       "3         6.785174         7.833862          7.607461         7.302935   \n",
       "4         2.984125         3.152269          3.225123         3.222731   \n",
       "\n",
       "   GSM136725.CEL.gz  \n",
       "0          6.488579  \n",
       "1          7.517410  \n",
       "2          5.247190  \n",
       "3          7.331864  \n",
       "4          3.175846  \n",
       "\n",
       "[5 rows x 209 columns]"
      ]
     },
     "execution_count": 5,
     "metadata": {},
     "output_type": "execute_result"
    }
   ],
   "source": [
    "exprs.head()"
   ]
  },
  {
   "cell_type": "markdown",
   "metadata": {},
   "source": [
    "Make sure the order of the columns in the gene expression DataFrame match the order of file names in the sample annotation DataFrame. If the order of the columns the `exprs` DataFrame do not match the order of the file names in the `sampleinfo` DataFrame, reorder the columns in the `exprs` DataFrame. \n",
    "\n",
    "**Note**: The column names of the gene expression DataFrame are the filenames of the orignal files from which these data were obtained.  \n",
    "\n",
    "**Hint**: The method `list.index(x)` [[read here](https://docs.python.org/3/tutorial/datastructures.html)] can be used to return the index in the list of the first item whose value is x. It is an error if there is no such item. To check if the order of the columns in `exprs` matches the order of the rows in `sampleinfo`, you can check using the method `.all()` on a Boolean or list of Booleans: \n",
    "\n",
    "Example code: `(exprs.columns == sampleinfo.filename).all()`"
   ]
  },
  {
   "cell_type": "code",
   "execution_count": 6,
   "metadata": {
    "collapsed": false
   },
   "outputs": [],
   "source": [
    "#your code here\n",
    "oldnames = list(exprs.columns[1:].values)\n",
    "newnames = list(sampleinfo.filename.values)\n",
    "exprs[oldnames] = exprs[newnames]\n",
    "exprs[oldnames] = exprs.ix[:,newnames]\n",
    "exprs.rename(columns=dict(zip(oldnames,newnames)), inplace = True)"
   ]
  },
  {
   "cell_type": "markdown",
   "metadata": {},
   "source": [
    "Show the head of the two tables: `exprs` and `sampleinfo`. "
   ]
  },
  {
   "cell_type": "code",
   "execution_count": 7,
   "metadata": {
    "collapsed": false
   },
   "outputs": [
    {
     "name": "stdout",
     "output_type": "stream",
     "text": [
      "  ethnicity        date         filename sex\n",
      "0       CEU  2003-02-04  GSM25349.CEL.gz   M\n",
      "1       CEU  2003-02-04  GSM25350.CEL.gz   M\n",
      "2       CEU  2002-12-17  GSM25356.CEL.gz   M\n",
      "3       CEU  2003-01-30  GSM25357.CEL.gz   M\n",
      "4       CEU  2003-01-03  GSM25358.CEL.gz   M\n"
     ]
    },
    {
     "data": {
      "text/html": [
       "<div>\n",
       "<table border=\"1\" class=\"dataframe\">\n",
       "  <thead>\n",
       "    <tr style=\"text-align: right;\">\n",
       "      <th></th>\n",
       "      <th>Unnamed: 0</th>\n",
       "      <th>GSM25349.CEL.gz</th>\n",
       "      <th>GSM25350.CEL.gz</th>\n",
       "      <th>GSM25356.CEL.gz</th>\n",
       "      <th>GSM25357.CEL.gz</th>\n",
       "      <th>GSM25358.CEL.gz</th>\n",
       "      <th>GSM25359.CEL.gz</th>\n",
       "      <th>GSM25360.CEL.gz</th>\n",
       "      <th>GSM25361.CEL.gz</th>\n",
       "      <th>GSM25377.CEL.gz</th>\n",
       "      <th>...</th>\n",
       "      <th>GSM136719.CEL.gz</th>\n",
       "      <th>GSM136720.CEL.gz</th>\n",
       "      <th>GSM136721.CEL.gz</th>\n",
       "      <th>GSM136722.CEL.gz</th>\n",
       "      <th>GSM136723.CEL.gz</th>\n",
       "      <th>GSM136724.CEL.gz</th>\n",
       "      <th>GSM136725.CEL.gz</th>\n",
       "      <th>GSM136726.CEL.gz</th>\n",
       "      <th>GSM136727.CEL.gz</th>\n",
       "      <th>GSM136729.CEL.gz</th>\n",
       "    </tr>\n",
       "  </thead>\n",
       "  <tbody>\n",
       "    <tr>\n",
       "      <th>0</th>\n",
       "      <td>1007_s_at</td>\n",
       "      <td>6.488579</td>\n",
       "      <td>6.406690</td>\n",
       "      <td>6.262668</td>\n",
       "      <td>6.739860</td>\n",
       "      <td>6.406282</td>\n",
       "      <td>6.330306</td>\n",
       "      <td>6.720599</td>\n",
       "      <td>6.494656</td>\n",
       "      <td>6.515313</td>\n",
       "      <td>...</td>\n",
       "      <td>6.602034</td>\n",
       "      <td>5.981000</td>\n",
       "      <td>6.392993</td>\n",
       "      <td>6.473075</td>\n",
       "      <td>6.444051</td>\n",
       "      <td>6.587854</td>\n",
       "      <td>6.155473</td>\n",
       "      <td>6.316140</td>\n",
       "      <td>6.809481</td>\n",
       "      <td>7.083383</td>\n",
       "    </tr>\n",
       "    <tr>\n",
       "      <th>1</th>\n",
       "      <td>1053_at</td>\n",
       "      <td>7.517410</td>\n",
       "      <td>7.504749</td>\n",
       "      <td>6.836493</td>\n",
       "      <td>7.219179</td>\n",
       "      <td>7.005343</td>\n",
       "      <td>7.349447</td>\n",
       "      <td>7.280992</td>\n",
       "      <td>6.583563</td>\n",
       "      <td>7.042064</td>\n",
       "      <td>...</td>\n",
       "      <td>7.151453</td>\n",
       "      <td>7.120923</td>\n",
       "      <td>7.203947</td>\n",
       "      <td>7.090230</td>\n",
       "      <td>7.099125</td>\n",
       "      <td>7.013648</td>\n",
       "      <td>7.111583</td>\n",
       "      <td>7.241489</td>\n",
       "      <td>7.200596</td>\n",
       "      <td>7.438955</td>\n",
       "    </tr>\n",
       "    <tr>\n",
       "      <th>2</th>\n",
       "      <td>117_at</td>\n",
       "      <td>5.247190</td>\n",
       "      <td>5.235257</td>\n",
       "      <td>5.445782</td>\n",
       "      <td>6.196140</td>\n",
       "      <td>5.033863</td>\n",
       "      <td>5.307224</td>\n",
       "      <td>5.347524</td>\n",
       "      <td>5.081738</td>\n",
       "      <td>5.023448</td>\n",
       "      <td>...</td>\n",
       "      <td>6.976564</td>\n",
       "      <td>5.275577</td>\n",
       "      <td>5.735873</td>\n",
       "      <td>5.368685</td>\n",
       "      <td>5.448902</td>\n",
       "      <td>5.643411</td>\n",
       "      <td>5.302628</td>\n",
       "      <td>5.219291</td>\n",
       "      <td>5.237239</td>\n",
       "      <td>5.358183</td>\n",
       "    </tr>\n",
       "    <tr>\n",
       "      <th>3</th>\n",
       "      <td>121_at</td>\n",
       "      <td>7.331864</td>\n",
       "      <td>7.588643</td>\n",
       "      <td>7.333546</td>\n",
       "      <td>7.445286</td>\n",
       "      <td>7.880388</td>\n",
       "      <td>7.634890</td>\n",
       "      <td>7.671745</td>\n",
       "      <td>7.870124</td>\n",
       "      <td>8.004886</td>\n",
       "      <td>...</td>\n",
       "      <td>8.358624</td>\n",
       "      <td>8.001434</td>\n",
       "      <td>8.128941</td>\n",
       "      <td>7.852398</td>\n",
       "      <td>7.638094</td>\n",
       "      <td>7.487405</td>\n",
       "      <td>7.456453</td>\n",
       "      <td>7.244052</td>\n",
       "      <td>7.357102</td>\n",
       "      <td>7.572309</td>\n",
       "    </tr>\n",
       "    <tr>\n",
       "      <th>4</th>\n",
       "      <td>1255_g_at</td>\n",
       "      <td>3.175846</td>\n",
       "      <td>3.228606</td>\n",
       "      <td>3.063602</td>\n",
       "      <td>3.138591</td>\n",
       "      <td>3.399915</td>\n",
       "      <td>3.322923</td>\n",
       "      <td>3.016090</td>\n",
       "      <td>3.396263</td>\n",
       "      <td>3.354950</td>\n",
       "      <td>...</td>\n",
       "      <td>3.323405</td>\n",
       "      <td>3.149710</td>\n",
       "      <td>3.368333</td>\n",
       "      <td>3.177356</td>\n",
       "      <td>3.327960</td>\n",
       "      <td>3.371413</td>\n",
       "      <td>3.090149</td>\n",
       "      <td>3.059999</td>\n",
       "      <td>3.105092</td>\n",
       "      <td>3.115716</td>\n",
       "    </tr>\n",
       "  </tbody>\n",
       "</table>\n",
       "<p>5 rows × 209 columns</p>\n",
       "</div>"
      ],
      "text/plain": [
       "  Unnamed: 0  GSM25349.CEL.gz  GSM25350.CEL.gz  GSM25356.CEL.gz  \\\n",
       "0  1007_s_at         6.488579         6.406690         6.262668   \n",
       "1    1053_at         7.517410         7.504749         6.836493   \n",
       "2     117_at         5.247190         5.235257         5.445782   \n",
       "3     121_at         7.331864         7.588643         7.333546   \n",
       "4  1255_g_at         3.175846         3.228606         3.063602   \n",
       "\n",
       "   GSM25357.CEL.gz  GSM25358.CEL.gz  GSM25359.CEL.gz  GSM25360.CEL.gz  \\\n",
       "0         6.739860         6.406282         6.330306         6.720599   \n",
       "1         7.219179         7.005343         7.349447         7.280992   \n",
       "2         6.196140         5.033863         5.307224         5.347524   \n",
       "3         7.445286         7.880388         7.634890         7.671745   \n",
       "4         3.138591         3.399915         3.322923         3.016090   \n",
       "\n",
       "   GSM25361.CEL.gz  GSM25377.CEL.gz        ...         GSM136719.CEL.gz  \\\n",
       "0         6.494656         6.515313        ...                 6.602034   \n",
       "1         6.583563         7.042064        ...                 7.151453   \n",
       "2         5.081738         5.023448        ...                 6.976564   \n",
       "3         7.870124         8.004886        ...                 8.358624   \n",
       "4         3.396263         3.354950        ...                 3.323405   \n",
       "\n",
       "   GSM136720.CEL.gz  GSM136721.CEL.gz  GSM136722.CEL.gz  GSM136723.CEL.gz  \\\n",
       "0          5.981000          6.392993          6.473075          6.444051   \n",
       "1          7.120923          7.203947          7.090230          7.099125   \n",
       "2          5.275577          5.735873          5.368685          5.448902   \n",
       "3          8.001434          8.128941          7.852398          7.638094   \n",
       "4          3.149710          3.368333          3.177356          3.327960   \n",
       "\n",
       "   GSM136724.CEL.gz  GSM136725.CEL.gz  GSM136726.CEL.gz  GSM136727.CEL.gz  \\\n",
       "0          6.587854          6.155473          6.316140          6.809481   \n",
       "1          7.013648          7.111583          7.241489          7.200596   \n",
       "2          5.643411          5.302628          5.219291          5.237239   \n",
       "3          7.487405          7.456453          7.244052          7.357102   \n",
       "4          3.371413          3.090149          3.059999          3.105092   \n",
       "\n",
       "   GSM136729.CEL.gz  \n",
       "0          7.083383  \n",
       "1          7.438955  \n",
       "2          5.358183  \n",
       "3          7.572309  \n",
       "4          3.115716  \n",
       "\n",
       "[5 rows x 209 columns]"
      ]
     },
     "execution_count": 7,
     "metadata": {},
     "output_type": "execute_result"
    }
   ],
   "source": [
    "#your code here\n",
    "print(sampleinfo.head())\n",
    "exprs.head()\n"
   ]
  },
  {
   "cell_type": "markdown",
   "metadata": {},
   "source": [
    "#### Problem 1(b)\n",
    "\n",
    "Extract the year and month as integers from the `sampleinfo` table. \n",
    "\n",
    "**Hint**: To convert a Series or a column of a pandas DataFrame that contains a date-like object, you can use the `to_datetime` function [[read here](http://pandas.pydata.org/pandas-docs/stable/timeseries.html)].  This will create a `DatetimeIndex` which can be used to extract the month and year for each row in the DataFrame. "
   ]
  },
  {
   "cell_type": "code",
   "execution_count": 8,
   "metadata": {
    "collapsed": false
   },
   "outputs": [
    {
     "data": {
      "text/plain": [
       "array(['2003-02-04', '2003-02-04', '2002-12-17', '2003-01-30',\n",
       "       '2003-01-03', '2003-01-16', '2003-01-03', '2003-02-04',\n",
       "       '2002-12-17', '2002-12-17'], dtype=object)"
      ]
     },
     "execution_count": 8,
     "metadata": {},
     "output_type": "execute_result"
    }
   ],
   "source": [
    "#your code here\n",
    "dates = sampleinfo.loc[:,['date']].values[:,0]\n",
    "dates[:10]"
   ]
  },
  {
   "cell_type": "code",
   "execution_count": 9,
   "metadata": {
    "collapsed": true
   },
   "outputs": [],
   "source": [
    "dates = pd.to_datetime(dates)"
   ]
  },
  {
   "cell_type": "code",
   "execution_count": 10,
   "metadata": {
    "collapsed": false
   },
   "outputs": [
    {
     "data": {
      "text/plain": [
       "array([2003, 2003, 2002, 2003, 2003, 2003, 2003, 2003, 2002, 2002])"
      ]
     },
     "execution_count": 10,
     "metadata": {},
     "output_type": "execute_result"
    }
   ],
   "source": [
    "years = dates.year\n",
    "years[:10]"
   ]
  },
  {
   "cell_type": "code",
   "execution_count": 11,
   "metadata": {
    "collapsed": false
   },
   "outputs": [
    {
     "data": {
      "text/plain": [
       "array([ 2,  2, 12,  1,  1,  1,  1,  2, 12, 12])"
      ]
     },
     "execution_count": 11,
     "metadata": {},
     "output_type": "execute_result"
    }
   ],
   "source": [
    "months = dates.month\n",
    "months[:10]"
   ]
  },
  {
   "cell_type": "markdown",
   "metadata": {},
   "source": [
    "#### Problem 1(c)\n",
    "\n",
    "Convert the dates in the `date` column from the `sampleinfo` table into days since October 31, 2002. Add a column to the `sampleinfo` DataFrame titled `elapsedInDays` containing the days since October 31, 2002.  Show the head of the `sampleinfo` DataFrame which includes the new column.  \n",
    "\n",
    "**Hint**: Use the `datetime` module to create a new `datetime` object for the specific date October 31, 2002. Then, subtract the October 31, 2002 date from each date from the `date` column in the `sampleinfo` DataFrame. "
   ]
  },
  {
   "cell_type": "code",
   "execution_count": 13,
   "metadata": {
    "collapsed": false
   },
   "outputs": [
    {
     "data": {
      "text/html": [
       "<div>\n",
       "<table border=\"1\" class=\"dataframe\">\n",
       "  <thead>\n",
       "    <tr style=\"text-align: right;\">\n",
       "      <th></th>\n",
       "      <th>ethnicity</th>\n",
       "      <th>date</th>\n",
       "      <th>filename</th>\n",
       "      <th>sex</th>\n",
       "      <th>days</th>\n",
       "    </tr>\n",
       "  </thead>\n",
       "  <tbody>\n",
       "    <tr>\n",
       "      <th>0</th>\n",
       "      <td>CEU</td>\n",
       "      <td>2003-02-04</td>\n",
       "      <td>GSM25349.CEL.gz</td>\n",
       "      <td>M</td>\n",
       "      <td>96 days</td>\n",
       "    </tr>\n",
       "    <tr>\n",
       "      <th>1</th>\n",
       "      <td>CEU</td>\n",
       "      <td>2003-02-04</td>\n",
       "      <td>GSM25350.CEL.gz</td>\n",
       "      <td>M</td>\n",
       "      <td>96 days</td>\n",
       "    </tr>\n",
       "    <tr>\n",
       "      <th>2</th>\n",
       "      <td>CEU</td>\n",
       "      <td>2002-12-17</td>\n",
       "      <td>GSM25356.CEL.gz</td>\n",
       "      <td>M</td>\n",
       "      <td>47 days</td>\n",
       "    </tr>\n",
       "    <tr>\n",
       "      <th>3</th>\n",
       "      <td>CEU</td>\n",
       "      <td>2003-01-30</td>\n",
       "      <td>GSM25357.CEL.gz</td>\n",
       "      <td>M</td>\n",
       "      <td>91 days</td>\n",
       "    </tr>\n",
       "    <tr>\n",
       "      <th>4</th>\n",
       "      <td>CEU</td>\n",
       "      <td>2003-01-03</td>\n",
       "      <td>GSM25358.CEL.gz</td>\n",
       "      <td>M</td>\n",
       "      <td>64 days</td>\n",
       "    </tr>\n",
       "  </tbody>\n",
       "</table>\n",
       "</div>"
      ],
      "text/plain": [
       "  ethnicity       date         filename sex    days\n",
       "0       CEU 2003-02-04  GSM25349.CEL.gz   M 96 days\n",
       "1       CEU 2003-02-04  GSM25350.CEL.gz   M 96 days\n",
       "2       CEU 2002-12-17  GSM25356.CEL.gz   M 47 days\n",
       "3       CEU 2003-01-30  GSM25357.CEL.gz   M 91 days\n",
       "4       CEU 2003-01-03  GSM25358.CEL.gz   M 64 days"
      ]
     },
     "execution_count": 13,
     "metadata": {},
     "output_type": "execute_result"
    }
   ],
   "source": [
    "#your code here\n",
    "sampleinfo['date'] = sampleinfo['date'].apply(pd.to_datetime)\n",
    "sampleinfo['days'] = sampleinfo['date'].apply(lambda x: x-pd.datetime(2002,10,31))\n",
    "sampleinfo.head()"
   ]
  },
  {
   "cell_type": "markdown",
   "metadata": {},
   "source": [
    "#### Problem 1(d)\n",
    "\n",
    "Use exploratory analysis and the singular value decomposition (SVD) of the gene expression data matrix to determine if the date the samples were processed has large effect on the variability seen in the data or if it is just ethnicity (which is confounded with date). \n",
    "\n",
    "**Hint**: See the end of the [lecture from 9/23/2014 for help with SVD](https://github.com/cs109/2014/blob/master/lectures/2014_09_23-lecture/data_scraping_transcript.ipynb)\n",
    "First subset the the `sampleinfo` DataFrame to include only the CEU ethnicity.  Call this new subsetted DataFrame `sampleinfoCEU`.  Show the head of `sampleinfoCEU` DataFrame. "
   ]
  },
  {
   "cell_type": "code",
   "execution_count": 14,
   "metadata": {
    "collapsed": false
   },
   "outputs": [],
   "source": [
    "#your code here\n",
    "sampleinfoCEU = sampleinfo[sampleinfo.ethnicity=='CEU']"
   ]
  },
  {
   "cell_type": "markdown",
   "metadata": {},
   "source": [
    "Next, subset the `exprs` DataFrame to only include the samples with the CEU ethnicity. Name this new subsetted DataFrame `exprsCEU`. Show the head of the `exprsCEU` DataFrame. "
   ]
  },
  {
   "cell_type": "code",
   "execution_count": 16,
   "metadata": {
    "collapsed": false
   },
   "outputs": [
    {
     "data": {
      "text/html": [
       "<div>\n",
       "<table border=\"1\" class=\"dataframe\">\n",
       "  <thead>\n",
       "    <tr style=\"text-align: right;\">\n",
       "      <th></th>\n",
       "      <th>GSM25349.CEL.gz</th>\n",
       "      <th>GSM25350.CEL.gz</th>\n",
       "      <th>GSM25356.CEL.gz</th>\n",
       "      <th>GSM25357.CEL.gz</th>\n",
       "      <th>GSM25358.CEL.gz</th>\n",
       "      <th>GSM25359.CEL.gz</th>\n",
       "      <th>GSM25360.CEL.gz</th>\n",
       "      <th>GSM25361.CEL.gz</th>\n",
       "      <th>GSM25377.CEL.gz</th>\n",
       "      <th>GSM25378.CEL.gz</th>\n",
       "      <th>...</th>\n",
       "      <th>GSM48658.CEL.gz</th>\n",
       "      <th>GSM48660.CEL.gz</th>\n",
       "      <th>GSM48661.CEL.gz</th>\n",
       "      <th>GSM48662.CEL.gz</th>\n",
       "      <th>GSM48663.CEL.gz</th>\n",
       "      <th>GSM48664.CEL.gz</th>\n",
       "      <th>GSM48665.CEL.gz</th>\n",
       "      <th>GSM136725.CEL.gz</th>\n",
       "      <th>GSM136726.CEL.gz</th>\n",
       "      <th>GSM136727.CEL.gz</th>\n",
       "    </tr>\n",
       "  </thead>\n",
       "  <tbody>\n",
       "    <tr>\n",
       "      <th>0</th>\n",
       "      <td>6.488579</td>\n",
       "      <td>6.406690</td>\n",
       "      <td>6.262668</td>\n",
       "      <td>6.739860</td>\n",
       "      <td>6.406282</td>\n",
       "      <td>6.330306</td>\n",
       "      <td>6.720599</td>\n",
       "      <td>6.494656</td>\n",
       "      <td>6.515313</td>\n",
       "      <td>6.255549</td>\n",
       "      <td>...</td>\n",
       "      <td>6.502051</td>\n",
       "      <td>6.250746</td>\n",
       "      <td>6.156754</td>\n",
       "      <td>6.331567</td>\n",
       "      <td>5.678862</td>\n",
       "      <td>6.860054</td>\n",
       "      <td>6.671589</td>\n",
       "      <td>6.155473</td>\n",
       "      <td>6.316140</td>\n",
       "      <td>6.809481</td>\n",
       "    </tr>\n",
       "    <tr>\n",
       "      <th>1</th>\n",
       "      <td>7.517410</td>\n",
       "      <td>7.504749</td>\n",
       "      <td>6.836493</td>\n",
       "      <td>7.219179</td>\n",
       "      <td>7.005343</td>\n",
       "      <td>7.349447</td>\n",
       "      <td>7.280992</td>\n",
       "      <td>6.583563</td>\n",
       "      <td>7.042064</td>\n",
       "      <td>7.174769</td>\n",
       "      <td>...</td>\n",
       "      <td>7.302209</td>\n",
       "      <td>6.797354</td>\n",
       "      <td>7.491967</td>\n",
       "      <td>7.456509</td>\n",
       "      <td>7.140206</td>\n",
       "      <td>7.168543</td>\n",
       "      <td>6.941910</td>\n",
       "      <td>7.111583</td>\n",
       "      <td>7.241489</td>\n",
       "      <td>7.200596</td>\n",
       "    </tr>\n",
       "    <tr>\n",
       "      <th>2</th>\n",
       "      <td>5.247190</td>\n",
       "      <td>5.235257</td>\n",
       "      <td>5.445782</td>\n",
       "      <td>6.196140</td>\n",
       "      <td>5.033863</td>\n",
       "      <td>5.307224</td>\n",
       "      <td>5.347524</td>\n",
       "      <td>5.081738</td>\n",
       "      <td>5.023448</td>\n",
       "      <td>5.237160</td>\n",
       "      <td>...</td>\n",
       "      <td>5.395087</td>\n",
       "      <td>5.877956</td>\n",
       "      <td>5.039387</td>\n",
       "      <td>5.280535</td>\n",
       "      <td>5.778091</td>\n",
       "      <td>4.992065</td>\n",
       "      <td>5.250471</td>\n",
       "      <td>5.302628</td>\n",
       "      <td>5.219291</td>\n",
       "      <td>5.237239</td>\n",
       "    </tr>\n",
       "    <tr>\n",
       "      <th>3</th>\n",
       "      <td>7.331864</td>\n",
       "      <td>7.588643</td>\n",
       "      <td>7.333546</td>\n",
       "      <td>7.445286</td>\n",
       "      <td>7.880388</td>\n",
       "      <td>7.634890</td>\n",
       "      <td>7.671745</td>\n",
       "      <td>7.870124</td>\n",
       "      <td>8.004886</td>\n",
       "      <td>7.574813</td>\n",
       "      <td>...</td>\n",
       "      <td>7.993732</td>\n",
       "      <td>7.135453</td>\n",
       "      <td>7.543667</td>\n",
       "      <td>7.632947</td>\n",
       "      <td>7.636212</td>\n",
       "      <td>7.781055</td>\n",
       "      <td>8.021389</td>\n",
       "      <td>7.456453</td>\n",
       "      <td>7.244052</td>\n",
       "      <td>7.357102</td>\n",
       "    </tr>\n",
       "    <tr>\n",
       "      <th>4</th>\n",
       "      <td>3.175846</td>\n",
       "      <td>3.228606</td>\n",
       "      <td>3.063602</td>\n",
       "      <td>3.138591</td>\n",
       "      <td>3.399915</td>\n",
       "      <td>3.322923</td>\n",
       "      <td>3.016090</td>\n",
       "      <td>3.396263</td>\n",
       "      <td>3.354950</td>\n",
       "      <td>3.208304</td>\n",
       "      <td>...</td>\n",
       "      <td>3.440186</td>\n",
       "      <td>3.080858</td>\n",
       "      <td>3.128269</td>\n",
       "      <td>3.185090</td>\n",
       "      <td>3.030377</td>\n",
       "      <td>3.368723</td>\n",
       "      <td>3.351127</td>\n",
       "      <td>3.090149</td>\n",
       "      <td>3.059999</td>\n",
       "      <td>3.105092</td>\n",
       "    </tr>\n",
       "  </tbody>\n",
       "</table>\n",
       "<p>5 rows × 102 columns</p>\n",
       "</div>"
      ],
      "text/plain": [
       "   GSM25349.CEL.gz  GSM25350.CEL.gz  GSM25356.CEL.gz  GSM25357.CEL.gz  \\\n",
       "0         6.488579         6.406690         6.262668         6.739860   \n",
       "1         7.517410         7.504749         6.836493         7.219179   \n",
       "2         5.247190         5.235257         5.445782         6.196140   \n",
       "3         7.331864         7.588643         7.333546         7.445286   \n",
       "4         3.175846         3.228606         3.063602         3.138591   \n",
       "\n",
       "   GSM25358.CEL.gz  GSM25359.CEL.gz  GSM25360.CEL.gz  GSM25361.CEL.gz  \\\n",
       "0         6.406282         6.330306         6.720599         6.494656   \n",
       "1         7.005343         7.349447         7.280992         6.583563   \n",
       "2         5.033863         5.307224         5.347524         5.081738   \n",
       "3         7.880388         7.634890         7.671745         7.870124   \n",
       "4         3.399915         3.322923         3.016090         3.396263   \n",
       "\n",
       "   GSM25377.CEL.gz  GSM25378.CEL.gz        ...         GSM48658.CEL.gz  \\\n",
       "0         6.515313         6.255549        ...                6.502051   \n",
       "1         7.042064         7.174769        ...                7.302209   \n",
       "2         5.023448         5.237160        ...                5.395087   \n",
       "3         8.004886         7.574813        ...                7.993732   \n",
       "4         3.354950         3.208304        ...                3.440186   \n",
       "\n",
       "   GSM48660.CEL.gz  GSM48661.CEL.gz  GSM48662.CEL.gz  GSM48663.CEL.gz  \\\n",
       "0         6.250746         6.156754         6.331567         5.678862   \n",
       "1         6.797354         7.491967         7.456509         7.140206   \n",
       "2         5.877956         5.039387         5.280535         5.778091   \n",
       "3         7.135453         7.543667         7.632947         7.636212   \n",
       "4         3.080858         3.128269         3.185090         3.030377   \n",
       "\n",
       "   GSM48664.CEL.gz  GSM48665.CEL.gz  GSM136725.CEL.gz  GSM136726.CEL.gz  \\\n",
       "0         6.860054         6.671589          6.155473          6.316140   \n",
       "1         7.168543         6.941910          7.111583          7.241489   \n",
       "2         4.992065         5.250471          5.302628          5.219291   \n",
       "3         7.781055         8.021389          7.456453          7.244052   \n",
       "4         3.368723         3.351127          3.090149          3.059999   \n",
       "\n",
       "   GSM136727.CEL.gz  \n",
       "0          6.809481  \n",
       "1          7.200596  \n",
       "2          5.237239  \n",
       "3          7.357102  \n",
       "4          3.105092  \n",
       "\n",
       "[5 rows x 102 columns]"
      ]
     },
     "execution_count": 16,
     "metadata": {},
     "output_type": "execute_result"
    }
   ],
   "source": [
    "#your code here\n",
    "sampleinfoCeuFilenames = sampleinfoCEU.loc[:,['filename']].values[:,0]\n",
    "sampleinfoCeuFilenames[:10]\n",
    "\n",
    "exprsCEU = exprs.loc[:,sampleinfoCeuFilenames]\n",
    "exprsCEU.head()"
   ]
  },
  {
   "cell_type": "markdown",
   "metadata": {},
   "source": [
    "Check to make sure the order of the columns in the `exprsCEU` DataFrame matches the rows in the `sampleinfoCEU` DataFrame.  "
   ]
  },
  {
   "cell_type": "code",
   "execution_count": 17,
   "metadata": {
    "collapsed": false
   },
   "outputs": [
    {
     "data": {
      "text/plain": [
       "True"
      ]
     },
     "execution_count": 17,
     "metadata": {},
     "output_type": "execute_result"
    }
   ],
   "source": [
    "#your code here\n",
    "(exprsCEU.columns == sampleinfoCEU.filename).all()"
   ]
  },
  {
   "cell_type": "markdown",
   "metadata": {},
   "source": [
    "Compute the average gene expression intensity in the `exprsCEU` DataFrame across all the samples. For each sample in the `exprsCEU` DataFrame, subtract the average gene expression intensity from each of the samples. Show the head of the mean normalized gene expression data.  "
   ]
  },
  {
   "cell_type": "code",
   "execution_count": 18,
   "metadata": {
    "collapsed": false
   },
   "outputs": [
    {
     "data": {
      "text/html": [
       "<div>\n",
       "<table border=\"1\" class=\"dataframe\">\n",
       "  <thead>\n",
       "    <tr style=\"text-align: right;\">\n",
       "      <th></th>\n",
       "      <th>GSM25349.CEL.gz</th>\n",
       "      <th>GSM25350.CEL.gz</th>\n",
       "      <th>GSM25356.CEL.gz</th>\n",
       "      <th>GSM25357.CEL.gz</th>\n",
       "      <th>GSM25358.CEL.gz</th>\n",
       "      <th>GSM25359.CEL.gz</th>\n",
       "      <th>GSM25360.CEL.gz</th>\n",
       "      <th>GSM25361.CEL.gz</th>\n",
       "      <th>GSM25377.CEL.gz</th>\n",
       "      <th>GSM25378.CEL.gz</th>\n",
       "      <th>...</th>\n",
       "      <th>GSM48658.CEL.gz</th>\n",
       "      <th>GSM48660.CEL.gz</th>\n",
       "      <th>GSM48661.CEL.gz</th>\n",
       "      <th>GSM48662.CEL.gz</th>\n",
       "      <th>GSM48663.CEL.gz</th>\n",
       "      <th>GSM48664.CEL.gz</th>\n",
       "      <th>GSM48665.CEL.gz</th>\n",
       "      <th>GSM136725.CEL.gz</th>\n",
       "      <th>GSM136726.CEL.gz</th>\n",
       "      <th>GSM136727.CEL.gz</th>\n",
       "    </tr>\n",
       "  </thead>\n",
       "  <tbody>\n",
       "    <tr>\n",
       "      <th>0</th>\n",
       "      <td>0.113890</td>\n",
       "      <td>0.032000</td>\n",
       "      <td>-0.112021</td>\n",
       "      <td>0.365170</td>\n",
       "      <td>0.031592</td>\n",
       "      <td>-0.044383</td>\n",
       "      <td>0.345909</td>\n",
       "      <td>0.119966</td>\n",
       "      <td>0.140624</td>\n",
       "      <td>-0.119140</td>\n",
       "      <td>...</td>\n",
       "      <td>0.127362</td>\n",
       "      <td>-0.123943</td>\n",
       "      <td>-0.217935</td>\n",
       "      <td>-0.043122</td>\n",
       "      <td>-0.695827</td>\n",
       "      <td>0.485365</td>\n",
       "      <td>0.296900</td>\n",
       "      <td>-0.219217</td>\n",
       "      <td>-0.058550</td>\n",
       "      <td>0.434792</td>\n",
       "    </tr>\n",
       "    <tr>\n",
       "      <th>1</th>\n",
       "      <td>0.400509</td>\n",
       "      <td>0.387848</td>\n",
       "      <td>-0.280408</td>\n",
       "      <td>0.102279</td>\n",
       "      <td>-0.111558</td>\n",
       "      <td>0.232546</td>\n",
       "      <td>0.164092</td>\n",
       "      <td>-0.533338</td>\n",
       "      <td>-0.074837</td>\n",
       "      <td>0.057868</td>\n",
       "      <td>...</td>\n",
       "      <td>0.185308</td>\n",
       "      <td>-0.319547</td>\n",
       "      <td>0.375067</td>\n",
       "      <td>0.339608</td>\n",
       "      <td>0.023306</td>\n",
       "      <td>0.051642</td>\n",
       "      <td>-0.174991</td>\n",
       "      <td>-0.005318</td>\n",
       "      <td>0.124589</td>\n",
       "      <td>0.083695</td>\n",
       "    </tr>\n",
       "    <tr>\n",
       "      <th>2</th>\n",
       "      <td>-0.220556</td>\n",
       "      <td>-0.232489</td>\n",
       "      <td>-0.021964</td>\n",
       "      <td>0.728394</td>\n",
       "      <td>-0.433883</td>\n",
       "      <td>-0.160522</td>\n",
       "      <td>-0.120222</td>\n",
       "      <td>-0.386008</td>\n",
       "      <td>-0.444298</td>\n",
       "      <td>-0.230586</td>\n",
       "      <td>...</td>\n",
       "      <td>-0.072659</td>\n",
       "      <td>0.410210</td>\n",
       "      <td>-0.428359</td>\n",
       "      <td>-0.187211</td>\n",
       "      <td>0.310345</td>\n",
       "      <td>-0.475681</td>\n",
       "      <td>-0.217274</td>\n",
       "      <td>-0.165118</td>\n",
       "      <td>-0.248455</td>\n",
       "      <td>-0.230507</td>\n",
       "    </tr>\n",
       "    <tr>\n",
       "      <th>3</th>\n",
       "      <td>-0.195926</td>\n",
       "      <td>0.060853</td>\n",
       "      <td>-0.194243</td>\n",
       "      <td>-0.082504</td>\n",
       "      <td>0.352599</td>\n",
       "      <td>0.107100</td>\n",
       "      <td>0.143955</td>\n",
       "      <td>0.342335</td>\n",
       "      <td>0.477096</td>\n",
       "      <td>0.047023</td>\n",
       "      <td>...</td>\n",
       "      <td>0.465942</td>\n",
       "      <td>-0.392337</td>\n",
       "      <td>0.015877</td>\n",
       "      <td>0.105157</td>\n",
       "      <td>0.108423</td>\n",
       "      <td>0.253265</td>\n",
       "      <td>0.493599</td>\n",
       "      <td>-0.071337</td>\n",
       "      <td>-0.283738</td>\n",
       "      <td>-0.170687</td>\n",
       "    </tr>\n",
       "    <tr>\n",
       "      <th>4</th>\n",
       "      <td>-0.007661</td>\n",
       "      <td>0.045099</td>\n",
       "      <td>-0.119905</td>\n",
       "      <td>-0.044916</td>\n",
       "      <td>0.216408</td>\n",
       "      <td>0.139416</td>\n",
       "      <td>-0.167417</td>\n",
       "      <td>0.212756</td>\n",
       "      <td>0.171443</td>\n",
       "      <td>0.024797</td>\n",
       "      <td>...</td>\n",
       "      <td>0.256679</td>\n",
       "      <td>-0.102649</td>\n",
       "      <td>-0.055238</td>\n",
       "      <td>0.001583</td>\n",
       "      <td>-0.153130</td>\n",
       "      <td>0.185216</td>\n",
       "      <td>0.167620</td>\n",
       "      <td>-0.093358</td>\n",
       "      <td>-0.123507</td>\n",
       "      <td>-0.078415</td>\n",
       "    </tr>\n",
       "  </tbody>\n",
       "</table>\n",
       "<p>5 rows × 102 columns</p>\n",
       "</div>"
      ],
      "text/plain": [
       "   GSM25349.CEL.gz  GSM25350.CEL.gz  GSM25356.CEL.gz  GSM25357.CEL.gz  \\\n",
       "0         0.113890         0.032000        -0.112021         0.365170   \n",
       "1         0.400509         0.387848        -0.280408         0.102279   \n",
       "2        -0.220556        -0.232489        -0.021964         0.728394   \n",
       "3        -0.195926         0.060853        -0.194243        -0.082504   \n",
       "4        -0.007661         0.045099        -0.119905        -0.044916   \n",
       "\n",
       "   GSM25358.CEL.gz  GSM25359.CEL.gz  GSM25360.CEL.gz  GSM25361.CEL.gz  \\\n",
       "0         0.031592        -0.044383         0.345909         0.119966   \n",
       "1        -0.111558         0.232546         0.164092        -0.533338   \n",
       "2        -0.433883        -0.160522        -0.120222        -0.386008   \n",
       "3         0.352599         0.107100         0.143955         0.342335   \n",
       "4         0.216408         0.139416        -0.167417         0.212756   \n",
       "\n",
       "   GSM25377.CEL.gz  GSM25378.CEL.gz        ...         GSM48658.CEL.gz  \\\n",
       "0         0.140624        -0.119140        ...                0.127362   \n",
       "1        -0.074837         0.057868        ...                0.185308   \n",
       "2        -0.444298        -0.230586        ...               -0.072659   \n",
       "3         0.477096         0.047023        ...                0.465942   \n",
       "4         0.171443         0.024797        ...                0.256679   \n",
       "\n",
       "   GSM48660.CEL.gz  GSM48661.CEL.gz  GSM48662.CEL.gz  GSM48663.CEL.gz  \\\n",
       "0        -0.123943        -0.217935        -0.043122        -0.695827   \n",
       "1        -0.319547         0.375067         0.339608         0.023306   \n",
       "2         0.410210        -0.428359        -0.187211         0.310345   \n",
       "3        -0.392337         0.015877         0.105157         0.108423   \n",
       "4        -0.102649        -0.055238         0.001583        -0.153130   \n",
       "\n",
       "   GSM48664.CEL.gz  GSM48665.CEL.gz  GSM136725.CEL.gz  GSM136726.CEL.gz  \\\n",
       "0         0.485365         0.296900         -0.219217         -0.058550   \n",
       "1         0.051642        -0.174991         -0.005318          0.124589   \n",
       "2        -0.475681        -0.217274         -0.165118         -0.248455   \n",
       "3         0.253265         0.493599         -0.071337         -0.283738   \n",
       "4         0.185216         0.167620         -0.093358         -0.123507   \n",
       "\n",
       "   GSM136727.CEL.gz  \n",
       "0          0.434792  \n",
       "1          0.083695  \n",
       "2         -0.230507  \n",
       "3         -0.170687  \n",
       "4         -0.078415  \n",
       "\n",
       "[5 rows x 102 columns]"
      ]
     },
     "execution_count": 18,
     "metadata": {},
     "output_type": "execute_result"
    }
   ],
   "source": [
    "#your code here\n",
    "meanNormalizedExprsCEU = exprsCEU.apply(lambda x: x - exprsCEU.mean(axis=1), axis = 0)\n",
    "meanNormalizedExprsCEU.head()"
   ]
  },
  {
   "cell_type": "markdown",
   "metadata": {},
   "source": [
    "Using this mean normalized gene expression data, compute the projection to the first Principal Component (PC1).  \n",
    "\n",
    "**Hint**: Use the `numpy.linalg.svd()` function in the `numpy.linalg` module (or the `scipy.linalg.svd()` function in the `scipy.linalg` module) to apply an [singular value decomposition](http://en.wikipedia.org/wiki/Singular_value_decomposition) to a matrix.  "
   ]
  },
  {
   "cell_type": "code",
   "execution_count": 19,
   "metadata": {
    "collapsed": false
   },
   "outputs": [
    {
     "data": {
      "text/plain": [
       "((8793, 102), (8793, 8793), (102,), (102, 102))"
      ]
     },
     "execution_count": 19,
     "metadata": {},
     "output_type": "execute_result"
    }
   ],
   "source": [
    "#your code here\n",
    "U, s, Vt = np.linalg.svd(meanNormalizedExprsCEU.values, full_matrices=True)\n",
    "meanNormalizedExprsCEU.values.shape, U.shape, s.shape, Vt.shape\n"
   ]
  },
  {
   "cell_type": "code",
   "execution_count": 20,
   "metadata": {
    "collapsed": false
   },
   "outputs": [
    {
     "data": {
      "text/plain": [
       "array([[-0.03804481, -0.0772586 ,  0.08282695, ..., -0.02915287,\n",
       "         0.02435967,  0.09901475],\n",
       "       [-0.06275623, -0.13430496, -0.02884455, ...,  0.16024963,\n",
       "        -0.01481676,  0.09901475],\n",
       "       [ 0.13079891,  0.03066876,  0.11382227, ...,  0.02326891,\n",
       "         0.02690467,  0.09901475],\n",
       "       ..., \n",
       "       [-0.06481816, -0.15740463,  0.01136354, ..., -0.00278139,\n",
       "        -0.01135735,  0.09901475],\n",
       "       [ 0.05978747, -0.05917232,  0.02179269, ..., -0.00220642,\n",
       "        -0.64788559,  0.09901475],\n",
       "       [-0.05405578, -0.15681056,  0.07796099, ...,  0.01554712,\n",
       "         0.00072806,  0.09901475]])"
      ]
     },
     "execution_count": 20,
     "metadata": {},
     "output_type": "execute_result"
    }
   ],
   "source": [
    "V = Vt.T\n",
    "V"
   ]
  },
  {
   "cell_type": "code",
   "execution_count": 21,
   "metadata": {
    "collapsed": false
   },
   "outputs": [
    {
     "data": {
      "text/plain": [
       "array([-0.03804481, -0.06275623,  0.13079891,  0.04189366, -0.13699698,\n",
       "       -0.06402214, -0.0376321 , -0.13705999, -0.11940713, -0.0613717 ])"
      ]
     },
     "execution_count": 21,
     "metadata": {},
     "output_type": "execute_result"
    }
   ],
   "source": [
    "PC1 = V[:,0]\n",
    "PC1[:10]"
   ]
  },
  {
   "cell_type": "markdown",
   "metadata": {},
   "source": [
    "Create a histogram using the values from PC1.  Use a bin size of 25.  "
   ]
  },
  {
   "cell_type": "code",
   "execution_count": 22,
   "metadata": {
    "collapsed": false
   },
   "outputs": [
    {
     "data": {
      "image/png": "[encoded data removed]",
      "text/plain": [
       "<matplotlib.figure.Figure at 0x1c20fba5f98>"
      ]
     },
     "metadata": {},
     "output_type": "display_data"
    }
   ],
   "source": [
    "#your code here\n",
    "\n",
    "plt.hist(PC1 , bins=25)\n",
    "\n",
    "plt.title('Distribution of PC1 values')\n",
    "plt.xlabel('PC1 values')\n",
    "plt.ylabel('#values')\n",
    "plt.show()"
   ]
  },
  {
   "cell_type": "markdown",
   "metadata": {},
   "source": [
    "Create a scatter plot with the days since October 31, 2002 on the x-axis and PC1 on the y-axis."
   ]
  },
  {
   "cell_type": "code",
   "execution_count": 23,
   "metadata": {
    "collapsed": false
   },
   "outputs": [
    {
     "data": {
      "image/png": "[encoded data removed]",
      "text/plain": [
       "<matplotlib.figure.Figure at 0x1c20fba5ef0>"
      ]
     },
     "metadata": {},
     "output_type": "display_data"
    }
   ],
   "source": [
    "#your code here\n",
    "days = sampleinfoCEU['days'].values / np.timedelta64(1,'D') #to allow plotting\n",
    "plt.scatter(days, PC1)\n",
    "\n",
    "plt.title('Relationship between days and PC1 values')\n",
    "plt.xlabel('#days since 10/31/2012')\n",
    "plt.ylabel('PC1')\n",
    "plt.show()"
   ]
  },
  {
   "cell_type": "markdown",
   "metadata": {},
   "source": [
    "Around what day do you notice a difference in the way the samples were processed?"
   ]
  },
  {
   "cell_type": "code",
   "execution_count": 24,
   "metadata": {
    "collapsed": false
   },
   "outputs": [
    {
     "data": {
      "image/png": "[encoded data removed]",
      "text/plain": [
       "<matplotlib.figure.Figure at 0x1c211c1c630>"
      ]
     },
     "metadata": {},
     "output_type": "display_data"
    }
   ],
   "source": [
    "#your code here\n",
    "days = sampleinfoCEU['days'] / np.timedelta64(1,'D') #to allow plotting\n",
    "\n",
    "plt.figure(num=None, figsize=(16, 8), dpi=80, facecolor='w', edgecolor='k')\n",
    "\n",
    "plt.scatter(days, PC1, s=5)\n",
    "plt.xlim(10,170)\n",
    "plt.axvline(x=97, color='r')\n",
    "plt.axhline(y=-0.03, color='g')\n",
    "\n",
    "plt.title('Relationship between days and PC1 values')\n",
    "plt.xlabel('#days since 10/31/2012')\n",
    "plt.ylabel('PC1')\n",
    "plt.show()"
   ]
  },
  {
   "cell_type": "markdown",
   "metadata": {},
   "source": [
    "Answer: since day 97"
   ]
  },
  {
   "cell_type": "markdown",
   "metadata": {},
   "source": [
    "## Discussion for Problem 1\n",
    "\n",
    "*Write a brief discussion of your conclusions to the questions and tasks above in 100 words or less.*\n",
    "\n",
    "---\n"
   ]
  },
  {
   "cell_type": "markdown",
   "metadata": {},
   "source": [
    "# Submission Instructions\n",
    "\n",
    "To submit your homework, create a folder named **lastname_firstinitial_hw#** and place your IPython notebooks, data files, and any other files in this folder. Your IPython Notebooks should be completely executed with the results visible in the notebook. We should not have to run any code. Make sure to share the private repo with my github account (mdog) and submit the repo path through blackboard.\n"
   ]
  },
  {
   "cell_type": "code",
   "execution_count": null,
   "metadata": {
    "collapsed": false
   },
   "outputs": [],
   "source": []
  }
 ],
 "metadata": {
  "anaconda-cloud": {},
  "kernelspec": {
   "display_name": "Python [Root]",
   "language": "python",
   "name": "Python [Root]"
  },
  "language_info": {
   "codemirror_mode": {
    "name": "ipython",
    "version": 3
   },
   "file_extension": ".py",
   "mimetype": "text/x-python",
   "name": "python",
   "nbconvert_exporter": "python",
   "pygments_lexer": "ipython3",
   "version": "3.5.2"
  },
  "widgets": {
   "state": {},
   "version": "1.1.2"
  }
 },
 "nbformat": 4,
 "nbformat_minor": 0
}
